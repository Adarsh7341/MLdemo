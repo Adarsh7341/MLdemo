{
  "nbformat": 4,
  "nbformat_minor": 0,
  "metadata": {
    "colab": {
      "provenance": []
    },
    "kernelspec": {
      "name": "python3",
      "display_name": "Python 3"
    },
    "language_info": {
      "name": "python"
    }
  },
  "cells": [
    {
      "cell_type": "code",
      "source": [
        "pip install pyspark"
      ],
      "metadata": {
        "colab": {
          "base_uri": "https://localhost:8080/"
        },
        "id": "jvs2lOPzw_wo",
        "outputId": "640a644d-5e0f-48d3-ec38-4a87b3421f30"
      },
      "execution_count": null,
      "outputs": [
        {
          "output_type": "stream",
          "name": "stdout",
          "text": [
            "Collecting pyspark\n",
            "  Downloading pyspark-3.5.0.tar.gz (316.9 MB)\n",
            "\u001b[2K     \u001b[90m━━━━━━━━━━━━━━━━━━━━━━━━━━━━━━━━━━━━━━━━\u001b[0m \u001b[32m316.9/316.9 MB\u001b[0m \u001b[31m3.4 MB/s\u001b[0m eta \u001b[36m0:00:00\u001b[0m\n",
            "\u001b[?25h  Preparing metadata (setup.py) ... \u001b[?25l\u001b[?25hdone\n",
            "Requirement already satisfied: py4j==0.10.9.7 in /usr/local/lib/python3.10/dist-packages (from pyspark) (0.10.9.7)\n",
            "Building wheels for collected packages: pyspark\n",
            "  Building wheel for pyspark (setup.py) ... \u001b[?25l\u001b[?25hdone\n",
            "  Created wheel for pyspark: filename=pyspark-3.5.0-py2.py3-none-any.whl size=317425345 sha256=81761ef36a590a783514e190d1afa8f126285e5a9d7241378ca534481311ceca\n",
            "  Stored in directory: /root/.cache/pip/wheels/41/4e/10/c2cf2467f71c678cfc8a6b9ac9241e5e44a01940da8fbb17fc\n",
            "Successfully built pyspark\n",
            "Installing collected packages: pyspark\n",
            "Successfully installed pyspark-3.5.0\n"
          ]
        }
      ]
    },
    {
      "cell_type": "code",
      "source": [
        "import pyspark\n",
        "from pyspark.sql import SparkSession\n",
        "spark=SparkSession.builder.master('local[1]')\\\n",
        ".appName('Amaze2.in')\\\n",
        ".getOrCreate()\n",
        "from pyspark import SparkContext\n",
        "sc=spark.sparkContext"
      ],
      "metadata": {
        "id": "WQFqYNACw_wo"
      },
      "execution_count": null,
      "outputs": []
    },
    {
      "cell_type": "code",
      "source": [
        "from pyspark.sql.functions import max,min,sum,count,col,when,like,lit,regexp_replace\n",
        "from pyspark.sql.types import StructField,StructType,IntegerType,StringType"
      ],
      "metadata": {
        "id": "6VxldP-izynK"
      },
      "execution_count": null,
      "outputs": []
    },
    {
      "cell_type": "code",
      "source": [
        "df=spark.read.csv('sales_data.csv',header=True,inferSchema=True)\n",
        "df.show()"
      ],
      "metadata": {
        "colab": {
          "base_uri": "https://localhost:8080/"
        },
        "id": "FTc2SFsCyDrI",
        "outputId": "6c02b6af-2d45-47ae-dee4-eacf1a121bb8"
      },
      "execution_count": null,
      "outputs": [
        {
          "output_type": "stream",
          "name": "stdout",
          "text": [
            "+-------------+---------+------------+------------+---------------+\n",
            "|TransactionID|ProductID|QuantitySold|PricePerUnit|TransactionDate|\n",
            "+-------------+---------+------------+------------+---------------+\n",
            "|           89|      176|           7|       77.24|     2021-01-04|\n",
            "|           33|      182|           3|       34.05|     2021-01-05|\n",
            "|           48|      174|           1|       53.91|     2021-01-08|\n",
            "|           20|      188|           3|       40.51|     2021-01-14|\n",
            "|           59|      105|           4|       52.25|     2021-01-21|\n",
            "|           22|      137|           4|       25.39|     2021-01-23|\n",
            "|           83|      175|           7|       23.83|     2021-01-25|\n",
            "|           94|      199|           1|       51.68|     2021-01-27|\n",
            "|           44|      109|           9|       97.32|     2021-01-30|\n",
            "|           37|      129|           7|        96.8|     2021-01-31|\n",
            "|           17|      139|           1|        77.5|     2021-02-08|\n",
            "|           67|      101|           6|       39.22|     2021-02-13|\n",
            "|            3|      164|           4|       80.11|     2021-02-23|\n",
            "|           38|      119|           1|       59.88|     2021-02-24|\n",
            "|           29|      169|           2|        55.0|     2021-02-26|\n",
            "|           11|      170|           1|       14.55|     2021-02-28|\n",
            "|            6|      109|           1|        22.6|     2021-03-01|\n",
            "|           28|      180|           3|       80.53|     2021-03-02|\n",
            "|           68|      165|           4|       56.77|     2021-03-05|\n",
            "|           58|      153|           5|       74.32|     2021-03-07|\n",
            "+-------------+---------+------------+------------+---------------+\n",
            "only showing top 20 rows\n",
            "\n"
          ]
        }
      ]
    },
    {
      "cell_type": "code",
      "source": [
        "df.createOrReplaceTempView(\"table\")\n",
        "\n",
        "result=spark.sql('''select ProductID,sum(QuantitySold) as Sales from table\n",
        "                    group by ProductID order by sum(QuantitySold) desc''').show()\n",
        "result=spark.sql('''select ProductID,sum(QuantitySold) as Sales from table\n",
        "                    group by ProductID order by sum(QuantitySold) desc limit 1 ''').collect()\n",
        "print(f\"The ProductId with the highest sales is {result[0][0]} with sales of {result[0][1]}\")\n"
      ],
      "metadata": {
        "colab": {
          "base_uri": "https://localhost:8080/"
        },
        "id": "3RVZlZIpIW9M",
        "outputId": "fae34f61-74c2-4ce5-9310-aa6dd38ad4c4"
      },
      "execution_count": null,
      "outputs": [
        {
          "output_type": "stream",
          "name": "stdout",
          "text": [
            "+---------+-----+\n",
            "|ProductID|Sales|\n",
            "+---------+-----+\n",
            "|      165|   19|\n",
            "|      158|   18|\n",
            "|      100|   18|\n",
            "|      147|   16|\n",
            "|      146|   15|\n",
            "|      109|   15|\n",
            "|      153|   14|\n",
            "|      123|   14|\n",
            "|      114|   13|\n",
            "|      179|   13|\n",
            "|      142|   13|\n",
            "|      168|   13|\n",
            "|      132|   13|\n",
            "|      164|   13|\n",
            "|      157|   12|\n",
            "|      188|   11|\n",
            "|      175|   11|\n",
            "|      120|   10|\n",
            "|      131|   10|\n",
            "|      135|   10|\n",
            "+---------+-----+\n",
            "only showing top 20 rows\n",
            "\n",
            "The ProductId with the highest sales is 165 with sales of 19\n"
          ]
        }
      ]
    },
    {
      "cell_type": "code",
      "source": [
        "data=df.withColumn('TotalSales',((df.QuantitySold)*(df.PricePerUnit))).collect()"
      ],
      "metadata": {
        "id": "FfQs27XaxqoD"
      },
      "execution_count": null,
      "outputs": []
    },
    {
      "cell_type": "code",
      "source": [
        "df=spark.createDataFrame(data)\n",
        "df.show()"
      ],
      "metadata": {
        "colab": {
          "base_uri": "https://localhost:8080/"
        },
        "id": "x-d6EUdC6Ab4",
        "outputId": "07540b9c-7ce0-4c1a-bd46-0fb8ce726ec0"
      },
      "execution_count": null,
      "outputs": [
        {
          "output_type": "stream",
          "name": "stdout",
          "text": [
            "+-------------+---------+------------+------------+---------------+------------------+\n",
            "|TransactionID|ProductID|QuantitySold|PricePerUnit|TransactionDate|        TotalSales|\n",
            "+-------------+---------+------------+------------+---------------+------------------+\n",
            "|           89|      176|           7|       77.24|     2021-01-04|            540.68|\n",
            "|           33|      182|           3|       34.05|     2021-01-05|102.14999999999999|\n",
            "|           48|      174|           1|       53.91|     2021-01-08|             53.91|\n",
            "|           20|      188|           3|       40.51|     2021-01-14|            121.53|\n",
            "|           59|      105|           4|       52.25|     2021-01-21|             209.0|\n",
            "|           22|      137|           4|       25.39|     2021-01-23|            101.56|\n",
            "|           83|      175|           7|       23.83|     2021-01-25|            166.81|\n",
            "|           94|      199|           1|       51.68|     2021-01-27|             51.68|\n",
            "|           44|      109|           9|       97.32|     2021-01-30| 875.8799999999999|\n",
            "|           37|      129|           7|        96.8|     2021-01-31|             677.6|\n",
            "|           17|      139|           1|        77.5|     2021-02-08|              77.5|\n",
            "|           67|      101|           6|       39.22|     2021-02-13|            235.32|\n",
            "|            3|      164|           4|       80.11|     2021-02-23|            320.44|\n",
            "|           38|      119|           1|       59.88|     2021-02-24|             59.88|\n",
            "|           29|      169|           2|        55.0|     2021-02-26|             110.0|\n",
            "|           11|      170|           1|       14.55|     2021-02-28|             14.55|\n",
            "|            6|      109|           1|        22.6|     2021-03-01|              22.6|\n",
            "|           28|      180|           3|       80.53|     2021-03-02|            241.59|\n",
            "|           68|      165|           4|       56.77|     2021-03-05|            227.08|\n",
            "|           58|      153|           5|       74.32|     2021-03-07|371.59999999999997|\n",
            "+-------------+---------+------------+------------+---------------+------------------+\n",
            "only showing top 20 rows\n",
            "\n"
          ]
        }
      ]
    },
    {
      "cell_type": "code",
      "source": [
        "data=df.withColumn('Month',when((df.TransactionDate).like(\"%-01-%\"),lit(\"January\")).when((df.TransactionDate).like(\"%-02-%\"),lit(\"February\")).\\\n",
        "              when((df.TransactionDate).like(\"%-03-%\"),lit(\"March\")).when((df.TransactionDate).like(\"%-04-%\"),lit(\"April\")).\\\n",
        "              when((df.TransactionDate).like(\"%-05-%\"),lit(\"May\")).when((df.TransactionDate).like(\"%-06-%\"),lit(\"June\")).\\\n",
        "              when((df.TransactionDate).like(\"%-07-%\"),lit(\"July\")).when((df.TransactionDate).like(\"%-08-%\"),lit(\"August\")).\\\n",
        "              when((df.TransactionDate).like(\"%-09-%\"),lit(\"September\")).when((df.TransactionDate).like(\"%-10-%\"),lit(\"October\")).\\\n",
        "              when((df.TransactionDate).like(\"%-11-%\"),lit(\"November\")).when((df.TransactionDate).like(\"%-12-%\"),lit(\"December\"))).collect()"
      ],
      "metadata": {
        "id": "ZjWo3uuX8dar"
      },
      "execution_count": null,
      "outputs": []
    },
    {
      "cell_type": "code",
      "source": [
        "df=spark.createDataFrame(data)\n",
        "df.show()"
      ],
      "metadata": {
        "colab": {
          "base_uri": "https://localhost:8080/"
        },
        "id": "NyiwreZZzzee",
        "outputId": "03bbee24-50a7-43dc-de40-aae6a6ac884a"
      },
      "execution_count": null,
      "outputs": [
        {
          "output_type": "stream",
          "name": "stdout",
          "text": [
            "+-------------+---------+------------+------------+---------------+------------------+--------+\n",
            "|TransactionID|ProductID|QuantitySold|PricePerUnit|TransactionDate|        TotalSales|   Month|\n",
            "+-------------+---------+------------+------------+---------------+------------------+--------+\n",
            "|           89|      176|           7|       77.24|     2021-01-04|            540.68| January|\n",
            "|           33|      182|           3|       34.05|     2021-01-05|102.14999999999999| January|\n",
            "|           48|      174|           1|       53.91|     2021-01-08|             53.91| January|\n",
            "|           20|      188|           3|       40.51|     2021-01-14|            121.53| January|\n",
            "|           59|      105|           4|       52.25|     2021-01-21|             209.0| January|\n",
            "|           22|      137|           4|       25.39|     2021-01-23|            101.56| January|\n",
            "|           83|      175|           7|       23.83|     2021-01-25|            166.81| January|\n",
            "|           94|      199|           1|       51.68|     2021-01-27|             51.68| January|\n",
            "|           44|      109|           9|       97.32|     2021-01-30| 875.8799999999999| January|\n",
            "|           37|      129|           7|        96.8|     2021-01-31|             677.6| January|\n",
            "|           17|      139|           1|        77.5|     2021-02-08|              77.5|February|\n",
            "|           67|      101|           6|       39.22|     2021-02-13|            235.32|February|\n",
            "|            3|      164|           4|       80.11|     2021-02-23|            320.44|February|\n",
            "|           38|      119|           1|       59.88|     2021-02-24|             59.88|February|\n",
            "|           29|      169|           2|        55.0|     2021-02-26|             110.0|February|\n",
            "|           11|      170|           1|       14.55|     2021-02-28|             14.55|February|\n",
            "|            6|      109|           1|        22.6|     2021-03-01|              22.6|   March|\n",
            "|           28|      180|           3|       80.53|     2021-03-02|            241.59|   March|\n",
            "|           68|      165|           4|       56.77|     2021-03-05|            227.08|   March|\n",
            "|           58|      153|           5|       74.32|     2021-03-07|371.59999999999997|   March|\n",
            "+-------------+---------+------------+------------+---------------+------------------+--------+\n",
            "only showing top 20 rows\n",
            "\n"
          ]
        }
      ]
    },
    {
      "cell_type": "code",
      "source": [
        "df.createOrReplaceTempView(\"Myta\")\n",
        "df.show()\n",
        "result=spark.sql(\"select Month,sum(TotalSales) as TotalSales from Myta group by Month order by TotalSales desc\")\n",
        "result.show()"
      ],
      "metadata": {
        "colab": {
          "base_uri": "https://localhost:8080/"
        },
        "outputId": "65ec6fab-00e3-4ac1-bc57-5b6588ab000d",
        "id": "hgMiIpJaDivm"
      },
      "execution_count": null,
      "outputs": [
        {
          "output_type": "stream",
          "name": "stdout",
          "text": [
            "+-------------+---------+------------+------------+---------------+------------------+--------+\n",
            "|TransactionID|ProductID|QuantitySold|PricePerUnit|TransactionDate|        TotalSales|   Month|\n",
            "+-------------+---------+------------+------------+---------------+------------------+--------+\n",
            "|           89|      176|           7|       77.24|     2021-01-04|            540.68| January|\n",
            "|           33|      182|           3|       34.05|     2021-01-05|102.14999999999999| January|\n",
            "|           48|      174|           1|       53.91|     2021-01-08|             53.91| January|\n",
            "|           20|      188|           3|       40.51|     2021-01-14|            121.53| January|\n",
            "|           59|      105|           4|       52.25|     2021-01-21|             209.0| January|\n",
            "|           22|      137|           4|       25.39|     2021-01-23|            101.56| January|\n",
            "|           83|      175|           7|       23.83|     2021-01-25|            166.81| January|\n",
            "|           94|      199|           1|       51.68|     2021-01-27|             51.68| January|\n",
            "|           44|      109|           9|       97.32|     2021-01-30| 875.8799999999999| January|\n",
            "|           37|      129|           7|        96.8|     2021-01-31|             677.6| January|\n",
            "|           17|      139|           1|        77.5|     2021-02-08|              77.5|February|\n",
            "|           67|      101|           6|       39.22|     2021-02-13|            235.32|February|\n",
            "|            3|      164|           4|       80.11|     2021-02-23|            320.44|February|\n",
            "|           38|      119|           1|       59.88|     2021-02-24|             59.88|February|\n",
            "|           29|      169|           2|        55.0|     2021-02-26|             110.0|February|\n",
            "|           11|      170|           1|       14.55|     2021-02-28|             14.55|February|\n",
            "|            6|      109|           1|        22.6|     2021-03-01|              22.6|   March|\n",
            "|           28|      180|           3|       80.53|     2021-03-02|            241.59|   March|\n",
            "|           68|      165|           4|       56.77|     2021-03-05|            227.08|   March|\n",
            "|           58|      153|           5|       74.32|     2021-03-07|371.59999999999997|   March|\n",
            "+-------------+---------+------------+------------+---------------+------------------+--------+\n",
            "only showing top 20 rows\n",
            "\n",
            "+---------+------------------+\n",
            "|    Month|        TotalSales|\n",
            "+---------+------------------+\n",
            "|      May|           4462.14|\n",
            "| November|           4200.68|\n",
            "|   August|3391.1200000000003|\n",
            "|  January|2900.7999999999997|\n",
            "| December|           2800.62|\n",
            "|  October|2688.8999999999996|\n",
            "|     July|           2202.67|\n",
            "|    April|           2025.82|\n",
            "|September|            1648.1|\n",
            "|     June|1519.0900000000001|\n",
            "|    March| 862.8699999999999|\n",
            "| February| 817.6899999999999|\n",
            "+---------+------------------+\n",
            "\n"
          ]
        }
      ]
    },
    {
      "cell_type": "code",
      "source": [
        "df4=spark.read.csv('sales_data 1.csv',header=True,inferSchema=True)\n",
        "df4.show()\n"
      ],
      "metadata": {
        "colab": {
          "base_uri": "https://localhost:8080/"
        },
        "id": "dzz9Cv_5CNma",
        "outputId": "9e771a13-c0a7-4d01-d7ed-10d602fa2ada"
      },
      "execution_count": null,
      "outputs": [
        {
          "output_type": "stream",
          "name": "stdout",
          "text": [
            "+---------+------------+-------------+\n",
            "|ProductID|QuantitySold|StockQuantity|\n",
            "+---------+------------+-------------+\n",
            "|      100|          19|           29|\n",
            "|      101|           4|           17|\n",
            "|      102|           7|           20|\n",
            "|      103|           4|           53|\n",
            "|      104|           2|           21|\n",
            "|      105|           3|           32|\n",
            "|      107|           1|           32|\n",
            "|      109|          14|           60|\n",
            "|      110|           9|           42|\n",
            "|      113|          13|           29|\n",
            "|      114|           5|           39|\n",
            "|      115|          11|           45|\n",
            "|      116|          21|           43|\n",
            "|      118|           8|           19|\n",
            "|      119|           1|           49|\n",
            "|      121|           2|           51|\n",
            "|      122|           4|           37|\n",
            "|      125|           1|           35|\n",
            "|      126|           5|           32|\n",
            "|      127|           9|           56|\n",
            "+---------+------------+-------------+\n",
            "only showing top 20 rows\n",
            "\n"
          ]
        }
      ]
    },
    {
      "cell_type": "code",
      "source": [
        "df4.createOrReplaceTempView('Table2')\n",
        "result=spark.sql('''select count(ProductID) from Table2 where QuantitySold>StockQuantity''').collect()[0][0]\n",
        "print(result)"
      ],
      "metadata": {
        "colab": {
          "base_uri": "https://localhost:8080/"
        },
        "id": "4mLP8KZQ1Ja6",
        "outputId": "0137c91e-b41c-4708-f943-df9d8260808b"
      },
      "execution_count": null,
      "outputs": [
        {
          "output_type": "stream",
          "name": "stdout",
          "text": [
            "0\n"
          ]
        }
      ]
    }
  ]
}